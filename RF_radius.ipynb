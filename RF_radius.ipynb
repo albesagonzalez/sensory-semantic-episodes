{
 "cells": [
  {
   "cell_type": "code",
   "execution_count": 1,
   "metadata": {},
   "outputs": [],
   "source": [
    "\n",
    "import torch\n",
    "import numpy as np\n",
    "import torch.nn.functional as F\n",
    "\n",
    "\n",
    "import matplotlib.pyplot as plt\n",
    "from matplotlib.colors import LinearSegmentedColormap\n",
    "import seaborn as sns\n",
    "\n",
    "from copy import deepcopy\n",
    "import itertools\n",
    "import random\n",
    "from collections import OrderedDict\n",
    "\n",
    "\n",
    "from src.model_simple import SSCNetwork\n",
    "from src.utils.general import make_input, LatentSpace, get_ordered_indices, get_accuracy, test_network\n",
    "from src.utils.general_old import get_selectivity, get_cos_sim_torch, get_selectivity_accuracy\n",
    "from network_parameters import network_parameters\n",
    "\n",
    "\n",
    "\n",
    "blue = '#0073B7'\n",
    "yellow = '#FFD23F'\n",
    "gray = '#7A7A7A'\n",
    "purple = '#B05AA3'\n",
    "green = '#00A651'\n",
    "orange = '#F7941D'\n",
    "\n",
    "\n",
    "blue_yellow = LinearSegmentedColormap.from_list(\n",
    "    \"blue_yellow\", [\"#0073B7\", \"#FFD23F\"]\n",
    ")\n",
    "\n",
    "\n",
    "gray = '#C0C0C0'\n",
    "purple = '#B05AA3'\n",
    "\n",
    "gray_purple = LinearSegmentedColormap.from_list(\n",
    "    \"gray_purple\",\n",
    "    [gray , purple]\n",
    ")\n",
    "\n",
    "\n",
    "def seed_everything(seed=42):\n",
    "    random.seed(seed)\n",
    "    np.random.seed(seed)\n",
    "    torch.manual_seed(seed)"
   ]
  },
  {
   "cell_type": "code",
   "execution_count": 2,
   "metadata": {},
   "outputs": [],
   "source": [
    "#make network randomly project sensory input to obtain a wide distribution of selectivity in MTL-sensory\n",
    "network_parameters[\"mtl_dense_sen_projection\"] = True\n",
    "network_parameters[\"mtl_dense_sen_size\"] = 30\n",
    "network_parameters[\"max_post_mtl_dense_sen\"] = 1\n",
    "network_parameters[\"max_pre_mtl_dense_sen\"] = np.inf"
   ]
  },
  {
   "cell_type": "code",
   "execution_count": 3,
   "metadata": {},
   "outputs": [],
   "source": [
    "recording_parameters = {}\n",
    "recording_parameters[\"regions\"] = [\"mtl_dense\", \"mtl_sparse\", \"mtl\", \"ctx\"]\n",
    "recording_parameters[\"rate_activity\"] = np.inf\n",
    "recording_parameters[\"connections\"] = [\"ctx_mtl\"]\n",
    "recording_parameters[\"rate_connectivity\"] = np.inf\n",
    "\n",
    "\n",
    "input_params = {}\n",
    "input_params[\"num_days\"] = 1\n",
    "input_params[\"day_length\"] = 80\n",
    "input_params[\"mean_duration\"] = 5\n",
    "input_params[\"fixed_duration\"] = True\n",
    "input_params[\"num_swaps\"] = 4\n",
    "\n",
    "\n",
    "latent_specs = {}\n",
    "latent_specs[\"num\"] = 2\n",
    "latent_specs[\"total_sizes\"] = [50, 50]\n",
    "latent_specs[\"act_sizes\"] = [10, 10]\n",
    "latent_specs[\"dims\"] = [5, 5]\n",
    "latent_specs[\"prob_list\"] = [0.5/5 if i==j else 0.5/20 for i in range(5) for j in range(5)]\n",
    "\n",
    "\n",
    "seed_everything(1)"
   ]
  },
  {
   "cell_type": "code",
   "execution_count": 4,
   "metadata": {},
   "outputs": [
    {
     "name": "stdout",
     "output_type": "stream",
     "text": [
      "0\n",
      "0\n",
      "0\n",
      "0\n",
      "0\n",
      "0\n",
      "0\n",
      "0\n",
      "0\n",
      "0\n",
      "0\n",
      "50\n",
      "100\n",
      "150\n",
      "200\n",
      "250\n",
      "300\n",
      "350\n",
      "400\n",
      "450\n",
      "500\n",
      "550\n",
      "600\n",
      "650\n",
      "700\n",
      "750\n",
      "800\n",
      "850\n",
      "0\n",
      "50\n"
     ]
    }
   ],
   "source": [
    "original_prob_list = deepcopy(latent_specs[\"prob_list\"])\n",
    "\n",
    "input_params[\"num_days\"] = 10\n",
    "input_params[\"day_length\"] = 200\n",
    "input_params[\"mean_duration\"] = 1\n",
    "\n",
    "latent_specs[\"prob_list\"] = [0.2 if i==0 else 0 for i in range(5) for j in range(5)]\n",
    "input_params[\"latent_space\"] = LatentSpace(**latent_specs)\n",
    "\n",
    "network = SSCNetwork(network_parameters, recording_parameters)\n",
    "input, input_episodes, input_latents, network = test_network(network, input_params, print_rate=50)\n",
    "\n",
    "for k in range(1, 5):\n",
    "    latent_specs[\"prob_list\"] = [0.2 if i==k else 0 for i in range(5) for j in range(5)]\n",
    "    input_params[\"latent_space\"] = LatentSpace(**latent_specs)\n",
    "    input, input_episodes, input_latents, network = test_network(network, input_params, print_rate=50)\n",
    "\n",
    "for k in range(5):\n",
    "    latent_specs[\"prob_list\"] = [0.2 if j==k else 0 for i in range(5) for j in range(5)]\n",
    "    input_params[\"latent_space\"] = LatentSpace(**latent_specs)\n",
    "    input, input_episodes, input_latents, network = test_network(network, input_params, print_rate=50)\n",
    "\n",
    "\n",
    "input_params[\"num_days\"] = 900\n",
    "input_params[\"day_length\"] = 80\n",
    "input_params[\"mean_duration\"] = 5\n",
    "latent_specs[\"prob_list\"] = original_prob_list\n",
    "input_params[\"latent_space\"] = LatentSpace(**latent_specs)\n",
    "input, input_episodes, input_latents, network = test_network(network, input_params, print_rate=50)\n",
    "\n",
    "\n",
    "network.init_recordings(recording_parameters)\n",
    "network.frozen = True\n",
    "network.activity_recordings_rate = 1\n",
    "network.connectivity_recordings_rate = np.inf\n",
    "\n",
    "input_params[\"num_days\"] = 100\n",
    "input, input_episodes, input_latents, network = test_network(network, input_params, sleep=False, print_rate=50)\n",
    "\n",
    "\n",
    "\n",
    "X_ctx = torch.stack(network.activity_recordings[\"ctx\"], dim=0)[network.awake_indices][-100*input_params[\"day_length\"]:]\n",
    "X_mtl_sparse = torch.stack(network.activity_recordings[\"mtl_sparse\"], dim=0)[network.awake_indices][-100*input_params[\"day_length\"]:]\n",
    "X_mtl_dense = torch.stack(network.activity_recordings[\"mtl_dense\"], dim=0)[network.awake_indices][-100*input_params[\"day_length\"]:]\n",
    "\n",
    "X_latent_A = F.one_hot(input_latents[-100:, :, 0].long(), num_classes=latent_specs[\"dims\"][0])\n",
    "X_latent_B = F.one_hot(input_latents[-100:, :, 1].long(), num_classes=latent_specs[\"dims\"][1])\n",
    "X_latent_AB = torch.cat((X_latent_A, X_latent_B), axis=2)\n",
    "\n",
    "\n",
    "selectivity_ctx, ordered_indices_ctx = get_ordered_indices(X_ctx, X_latent_AB, assembly_size=10)\n",
    "selectivity_mtl_sparse, ordered_indices_mtl_sparse = get_ordered_indices(X_mtl_sparse, X_latent_AB, assembly_size=5)\n",
    "selectivity_mtl_dense, ordered_indices_mtl_dense = get_ordered_indices(X_mtl_dense, X_latent_AB, assembly_size=10)"
   ]
  },
  {
   "cell_type": "code",
   "execution_count": 5,
   "metadata": {},
   "outputs": [],
   "source": [
    "accuracy = get_accuracy(X_mtl_sparse[:, ordered_indices_mtl_sparse[:50]], input_latents.reshape((-1, 2)), assembly_size=5)\n"
   ]
  },
  {
   "cell_type": "code",
   "execution_count": 7,
   "metadata": {},
   "outputs": [
    {
     "data": {
      "text/plain": [
       "tensor([0.9808, 0.8790])"
      ]
     },
     "execution_count": 7,
     "metadata": {},
     "output_type": "execute_result"
    }
   ],
   "source": [
    "accuracy"
   ]
  },
  {
   "cell_type": "code",
   "execution_count": 6,
   "metadata": {},
   "outputs": [
    {
     "data": {
      "image/png": "[encoded data removed]",
      "text/plain": [
       "<Figure size 300x300 with 1 Axes>"
      ]
     },
     "metadata": {},
     "output_type": "display_data"
    }
   ],
   "source": [
    "\n",
    "\n",
    "fig = plt.figure(figsize=(3, 3))\n",
    "plt.hist(selectivity_mtl_dense[selectivity_mtl_dense != 0].flatten(), bins=80, label=\"MTL-sensory\", alpha=0.5, color=green)\n",
    "plt.hist(selectivity_mtl_sparse[selectivity_mtl_sparse != 0].flatten(), bins=80, label=\"MTL-semantic\", alpha=1, color=orange)\n",
    "plt.xlabel('Selectivity', fontsize=20)\n",
    "plt.ylabel('Neuron Count', fontsize=20)\n",
    "sns.despine()\n",
    "plt.xticks([-0.5, 0, 0.5, 1], fontsize=18)\n",
    "plt.yticks([])\n",
    "plt.legend(fontsize=18, frameon=False)\n",
    "plt.savefig('Figures_SVG/5c1.svg', dpi=300, transparent=True)"
   ]
  },
  {
   "cell_type": "code",
   "execution_count": 2,
   "metadata": {},
   "outputs": [],
   "source": [
    "#make network randomly project sensory input to obtain a wide distribution of selectivity in MTL-sensory\n",
    "network_parameters[\"mtl_dense_sen_projection\"] = True\n",
    "network_parameters[\"mtl_dense_sen_size\"] = 30\n",
    "network_parameters[\"max_post_mtl_dense_sen\"] = 1\n",
    "network_parameters[\"max_pre_mtl_dense_sen\"] = np.inf\n",
    "\n",
    "recording_parameters = {}\n",
    "recording_parameters[\"regions\"] = [\"mtl_dense\", \"mtl_sparse\", \"mtl\", \"ctx\", \"ctx_hat\"]\n",
    "recording_parameters[\"rate_activity\"] = np.inf\n",
    "recording_parameters[\"connections\"] = [\"ctx_mtl\"]\n",
    "recording_parameters[\"rate_connectivity\"] = np.inf\n",
    "\n",
    "\n",
    "\n",
    "network_parameters[\"max_semantic_charge_replay\"] = 1\n",
    "network_parameters[\"ctx_subregions_b\"] = [0.3, 0.6]\n",
    "\n",
    "\n",
    "network_parameters[\"duration_phase_A\"] = 400\n",
    "network_parameters[\"duration_phase_B\"] = 800\n",
    "\n",
    "\n",
    "network_parameters[\"ctx_ctx_sparsity\"] = 0\n",
    "network_parameters[\"ctx_ctx_g\"] = 0\n",
    "network_parameters[\"ctx_ctx_lmbda\"] = 5e-4\n",
    "network_parameters[\"max_pre_ctx_ctx\"] = 1\n",
    "network_parameters[\"max_post_ctx_ctx\"] = np.inf\n",
    "\n",
    "\n"
   ]
  },
  {
   "cell_type": "code",
   "execution_count": 3,
   "metadata": {},
   "outputs": [],
   "source": [
    "training='blocked'\n",
    "seed=0\n",
    "get_network=False\n",
    "seed_everything(seed)"
   ]
  },
  {
   "cell_type": "code",
   "execution_count": 4,
   "metadata": {},
   "outputs": [
    {
     "name": "stdout",
     "output_type": "stream",
     "text": [
      "0\n",
      "0\n",
      "0\n",
      "0\n",
      "0\n",
      "0\n",
      "0\n",
      "0\n",
      "0\n",
      "0\n"
     ]
    }
   ],
   "source": [
    "original_prob_list = deepcopy(latent_specs[\"prob_list\"])\n",
    "\n",
    "input_params[\"num_days\"] = 20\n",
    "input_params[\"day_length\"] = 200\n",
    "input_params[\"mean_duration\"] = 1\n",
    "\n",
    "network = SSCNetwork(network_parameters, recording_parameters)\n",
    "\n",
    "for k in range(5):\n",
    "    latent_specs[\"prob_list\"] = [0.2 if i==k else 0 for i in range(5) for j in range(5)]\n",
    "    input_params[\"latent_space\"] = LatentSpace(**latent_specs)\n",
    "    input, input_episodes, input_latents, network = test_network(network, input_params, print_rate=50)\n",
    "\n",
    "for k in range(5):\n",
    "    latent_specs[\"prob_list\"] = [0.2 if j==k else 0 for i in range(5) for j in range(5)]\n",
    "    input_params[\"latent_space\"] = LatentSpace(**latent_specs)\n",
    "    input, input_episodes, input_latents, network = test_network(network, input_params, print_rate=50)\n"
   ]
  },
  {
   "cell_type": "code",
   "execution_count": 9,
   "metadata": {},
   "outputs": [
    {
     "name": "stdout",
     "output_type": "stream",
     "text": [
      "0\n",
      "0\n",
      "0\n",
      "0\n",
      "0\n",
      "0\n",
      "0\n",
      "0\n",
      "0\n",
      "0\n"
     ]
    }
   ],
   "source": [
    "input_params[\"num_days\"] = 20\n",
    "input_params[\"day_length\"] = 200\n",
    "input_params[\"mean_duration\"] = 1\n",
    "\n",
    "network.init_recordings(recording_parameters)\n",
    "network.frozen = True\n",
    "network.activity_recordings_rate = 1\n",
    "network.connectivity_recordings_rate = np.inf\n",
    "\n",
    "for k in range(5):\n",
    "    latent_specs[\"prob_list\"] = [0.2 if i==k else 0 for i in range(5) for j in range(5)]\n",
    "    input_params[\"latent_space\"] = LatentSpace(**latent_specs)\n",
    "    input, input_episodes, input_latents, network = test_network(network, input_params, print_rate=50)\n",
    "\n",
    "for k in range(5):\n",
    "    latent_specs[\"prob_list\"] = [0.2 if j==k else 0 for i in range(5) for j in range(5)]\n",
    "    input_params[\"latent_space\"] = LatentSpace(**latent_specs)\n",
    "    input, input_episodes, input_latents, network = test_network(network, input_params, print_rate=50)"
   ]
  },
  {
   "cell_type": "code",
   "execution_count": null,
   "metadata": {},
   "outputs": [],
   "source": [
    "plt.imshow(network.ctx_mtl[ordered_indices_ctx[:100], :][:, ordered_indices_mtl_dense], cmap='gray')"
   ]
  },
  {
   "cell_type": "code",
   "execution_count": 7,
   "metadata": {},
   "outputs": [
    {
     "data": {
      "text/plain": [
       "tensor([0.9761, 0.9824])"
      ]
     },
     "execution_count": 7,
     "metadata": {},
     "output_type": "execute_result"
    }
   ],
   "source": [
    "accuracy_ctx"
   ]
  },
  {
   "cell_type": "code",
   "execution_count": 6,
   "metadata": {},
   "outputs": [
    {
     "name": "stdout",
     "output_type": "stream",
     "text": [
      "0\n",
      "50\n"
     ]
    }
   ],
   "source": [
    "latent_specs[\"prob_list\"] = original_prob_list\n",
    "input_params[\"latent_space\"] = LatentSpace(**latent_specs)\n",
    "\n",
    "network.init_recordings(recording_parameters)\n",
    "network.frozen = True\n",
    "network.activity_recordings_rate = 1\n",
    "network.connectivity_recordings_rate = np.inf\n",
    "\n",
    "input_params[\"num_days\"] = 100\n",
    "input, input_episodes, input_latents, network = test_network(network, input_params, sleep=True, print_rate=50)\n",
    "\n",
    "\n",
    "\n",
    "X_ctx = torch.stack(network.activity_recordings[\"ctx\"], dim=0)[network.awake_indices][-100*input_params[\"day_length\"]:]\n",
    "X_mtl_sparse = torch.stack(network.activity_recordings[\"mtl_sparse\"], dim=0)[network.awake_indices][-100*input_params[\"day_length\"]:]\n",
    "X_mtl_dense = torch.stack(network.activity_recordings[\"mtl_dense\"], dim=0)[network.awake_indices][-100*input_params[\"day_length\"]:]\n",
    "\n",
    "X_latent_A = F.one_hot(input_latents[-100:, :, 0].long(), num_classes=latent_specs[\"dims\"][0])\n",
    "X_latent_B = F.one_hot(input_latents[-100:, :, 1].long(), num_classes=latent_specs[\"dims\"][1])\n",
    "X_latent_AB = torch.cat((X_latent_A, X_latent_B), axis=2)\n",
    "\n",
    "\n",
    "selectivity_ctx, ordered_indices_ctx = get_ordered_indices(X_ctx, X_latent_AB, assembly_size=10)\n",
    "selectivity_mtl_sparse, ordered_indices_mtl_sparse = get_ordered_indices(X_mtl_sparse, X_latent_AB, assembly_size=5)\n",
    "selectivity_mtl_dense, ordered_indices_mtl_dense = get_ordered_indices(X_mtl_dense, X_latent_AB, assembly_size=10)\n",
    "\n",
    "\n",
    "accuracy_mtl_sparse = get_accuracy(X_mtl_sparse[:, ordered_indices_mtl_sparse[:50]], input_latents.reshape((-1, 2)), assembly_size=5)\n",
    "accuracy_ctx = get_accuracy(X_ctx[:, ordered_indices_ctx[:100]], input_latents.reshape((-1, 2)), assembly_size=10)"
   ]
  },
  {
   "cell_type": "code",
   "execution_count": 2,
   "metadata": {},
   "outputs": [
    {
     "ename": "NameError",
     "evalue": "name 'selectivity_ctx' is not defined",
     "output_type": "error",
     "traceback": [
      "\u001b[0;31m---------------------------------------------------------------------------\u001b[0m",
      "\u001b[0;31mNameError\u001b[0m                                 Traceback (most recent call last)",
      "Cell \u001b[0;32mIn[2], line 1\u001b[0m\n\u001b[0;32m----> 1\u001b[0m \u001b[43mselectivity_ctx\u001b[49m[ordered_indices_ctx]\u001b[38;5;241m.\u001b[39mmax(axis\u001b[38;5;241m=\u001b[39m\u001b[38;5;241m1\u001b[39m)[\u001b[38;5;241m0\u001b[39m][:\u001b[38;5;241m52\u001b[39m]\n",
      "\u001b[0;31mNameError\u001b[0m: name 'selectivity_ctx' is not defined"
     ]
    }
   ],
   "source": [
    "selectivity_ctx[ordered_indices_ctx].max(axis=1)[0][:52]"
   ]
  },
  {
   "cell_type": "code",
   "execution_count": 8,
   "metadata": {},
   "outputs": [
    {
     "data": {
      "text/plain": [
       "<matplotlib.image.AxesImage at 0x35f90c3a0>"
      ]
     },
     "execution_count": 8,
     "metadata": {},
     "output_type": "execute_result"
    },
    {
     "data": {
      "image/png": "[encoded data removed]",
      "text/plain": [
       "<Figure size 640x480 with 1 Axes>"
      ]
     },
     "metadata": {},
     "output_type": "display_data"
    }
   ],
   "source": [
    "plt.imshow(network.ctx_ctx[ordered_indices_ctx[:100], :][:, ordered_indices_ctx[:100]], cmap=blue_yellow)"
   ]
  },
  {
   "cell_type": "code",
   "execution_count": 7,
   "metadata": {},
   "outputs": [
    {
     "name": "stdout",
     "output_type": "stream",
     "text": [
      "0\n"
     ]
    }
   ],
   "source": [
    "network.frozen = False\n",
    "network.init_recordings(recording_parameters)\n",
    "network.activity_recordings_rate = 1\n",
    "\n",
    "#'''\n",
    "input_params[\"num_days\"] = 10\n",
    "input_params[\"day_length\"] = 80\n",
    "input_params[\"mean_duration\"] = 5\n",
    "latent_specs[\"prob_list\"] = original_prob_list\n",
    "input_params[\"latent_space\"] = LatentSpace(**latent_specs)\n",
    "input, input_episodes, input_latents, network = test_network(network, input_params, print_rate=50)\n",
    "#'''"
   ]
  },
  {
   "cell_type": "code",
   "execution_count": 9,
   "metadata": {},
   "outputs": [],
   "source": [
    "mtl = torch.stack(network.activity_recordings[\"mtl\"], dim=0)[network.sleep_indices_A]\n",
    "ctx = torch.stack(network.activity_recordings[\"ctx\"], dim=0)[network.sleep_indices_A]"
   ]
  },
  {
   "cell_type": "code",
   "execution_count": 11,
   "metadata": {},
   "outputs": [
    {
     "data": {
      "text/plain": [
       "[<matplotlib.axis.YTick at 0x36a5a80a0>,\n",
       " <matplotlib.axis.YTick at 0x36a59ea00>,\n",
       " <matplotlib.axis.YTick at 0x36a595eb0>,\n",
       " <matplotlib.axis.YTick at 0x36a5f1970>,\n",
       " <matplotlib.axis.YTick at 0x36a5f8460>,\n",
       " <matplotlib.axis.YTick at 0x36a5ec6a0>,\n",
       " <matplotlib.axis.YTick at 0x36a5f8c40>,\n",
       " <matplotlib.axis.YTick at 0x36a600730>,\n",
       " <matplotlib.axis.YTick at 0x36a607220>,\n",
       " <matplotlib.axis.YTick at 0x36a600e20>]"
      ]
     },
     "execution_count": 11,
     "metadata": {},
     "output_type": "execute_result"
    },
    {
     "data": {
      "image/png": "[encoded data removed]",
      "text/plain": [
       "<Figure size 1000x300 with 3 Axes>"
      ]
     },
     "metadata": {},
     "output_type": "display_data"
    }
   ],
   "source": [
    "index = 0\n",
    "\n",
    "\n",
    "\n",
    "fig, ax = plt.subplots(1, 3, figsize=(10, 3))\n",
    "ax[0].imshow(mtl[index, :100].reshape((-1, 10)), cmap=blue_yellow)\n",
    "ax[1].imshow(mtl[index, 100:][ordered_indices_mtl_sparse[:50]].reshape((-1, 5)), cmap=blue_yellow)\n",
    "ax[2].imshow(ctx[index, ordered_indices_ctx][:100].reshape((-1, 10)), cmap=blue_yellow)\n",
    "ax[0].set_xticks([])\n",
    "ax[0].set_yticks([])\n",
    "ax[1].set_xticks([])\n",
    "ax[1].set_yticks([])\n",
    "ax[2].set_xticks([])\n",
    "\n",
    "\n",
    "# Example parameters\n",
    "N = 10  # Total number of y-axis ticks (from 0 to N)\n",
    "NA = 5   # Number of A groups\n",
    "NB = 5   # Number of B groups\n",
    "M = N // (NA + NB)  # Size of each group (equal-sized labels)\n",
    "\n",
    "# Generate labels\n",
    "labels_A = [f\"A{i+1}\" for i in range(NA)]\n",
    "labels_B = [f\"B{i+1}\" for i in range(NB)]\n",
    "labels = labels_A + labels_B\n",
    "# Positions for labels (centered in each segment)\n",
    "positions = [M * i for i in range(NA + NB)]\n",
    "\n",
    "\n",
    "ax[1].set_yticks(positions, labels, fontsize=12)\n",
    "\n",
    "# Example parameters\n",
    "N = 10  # Total number of y-axis ticks (from 0 to N)\n",
    "NA = 5   # Number of A groups\n",
    "NB = 5   # Number of B groups\n",
    "M = N // (NA + NB)  # Size of each group (equal-sized labels)\n",
    "\n",
    "# Generate labels\n",
    "labels_A = [f\"A{i+1}\" for i in range(NA)]\n",
    "labels_B = [f\"B{i+1}\" for i in range(NB)]\n",
    "labels = labels_A + labels_B\n",
    "# Positions for labels (centered in each segment)\n",
    "positions = [M * i for i in range(NA + NB)]\n",
    "\n",
    "ax[2].set_yticks(positions, labels, fontsize=12)"
   ]
  },
  {
   "cell_type": "code",
   "execution_count": null,
   "metadata": {},
   "outputs": [],
   "source": [
    "for k in range(1, 5):\n",
    "    latent_specs[\"prob_list\"] = [0.2 if i==k else 0 for i in range(5) for j in range(5)]\n",
    "    input_params[\"latent_space\"] = LatentSpace(**latent_specs)\n",
    "    input, input_episodes, input_latents, network = test_network(network, input_params, print_rate=50)\n",
    "\n",
    "for k in range(5):\n",
    "    latent_specs[\"prob_list\"] = [0.2 if j==k else 0 for i in range(5) for j in range(5)]\n",
    "    input_params[\"latent_space\"] = LatentSpace(**latent_specs)\n",
    "    input, input_episodes, input_latents, network = test_network(network, input_params, print_rate=50)"
   ]
  },
  {
   "cell_type": "code",
   "execution_count": 41,
   "metadata": {},
   "outputs": [
    {
     "name": "stdout",
     "output_type": "stream",
     "text": [
      "0\n",
      "50\n"
     ]
    }
   ],
   "source": [
    "latent_specs[\"prob_list\"] = original_prob_list\n",
    "input_params[\"latent_space\"] = LatentSpace(**latent_specs)\n",
    "\n",
    "network.init_recordings(recording_parameters)\n",
    "network.frozen = True\n",
    "network.activity_recordings_rate = 1\n",
    "network.connectivity_recordings_rate = np.inf\n",
    "\n",
    "input_params[\"num_days\"] = 100\n",
    "input, input_episodes, input_latents, network = test_network(network, input_params, sleep=True, print_rate=50)\n",
    "\n",
    "\n",
    "\n",
    "X_ctx = torch.stack(network.activity_recordings[\"ctx\"], dim=0)[network.awake_indices][-100*input_params[\"day_length\"]:]\n",
    "X_mtl_sparse = torch.stack(network.activity_recordings[\"mtl_sparse\"], dim=0)[network.awake_indices][-100*input_params[\"day_length\"]:]\n",
    "X_mtl_dense = torch.stack(network.activity_recordings[\"mtl_dense\"], dim=0)[network.awake_indices][-100*input_params[\"day_length\"]:]\n",
    "\n",
    "X_latent_A = F.one_hot(input_latents[-100:, :, 0].long(), num_classes=latent_specs[\"dims\"][0])\n",
    "X_latent_B = F.one_hot(input_latents[-100:, :, 1].long(), num_classes=latent_specs[\"dims\"][1])\n",
    "X_latent_AB = torch.cat((X_latent_A, X_latent_B), axis=2)\n",
    "\n",
    "\n",
    "selectivity_ctx, ordered_indices_ctx = get_ordered_indices(X_ctx, X_latent_AB, assembly_size=10)\n",
    "selectivity_mtl_sparse, ordered_indices_mtl_sparse = get_ordered_indices(X_mtl_sparse, X_latent_AB, assembly_size=5)\n",
    "selectivity_mtl_dense, ordered_indices_mtl_dense = get_ordered_indices(X_mtl_dense, X_latent_AB, assembly_size=10)\n",
    "\n",
    "\n",
    "accuracy_mtl_sparse = get_accuracy(X_mtl_sparse[:, ordered_indices_mtl_sparse[:50]], input_latents.reshape((-1, 2)), assembly_size=5)\n",
    "accuracy_ctx = get_accuracy(X_ctx[:, ordered_indices_ctx[:100]], input_latents.reshape((-1, 2)), assembly_size=10)"
   ]
  },
  {
   "cell_type": "code",
   "execution_count": 13,
   "metadata": {},
   "outputs": [
    {
     "name": "stdout",
     "output_type": "stream",
     "text": [
      "0\n",
      "50\n",
      "100\n",
      "150\n",
      "200\n",
      "250\n",
      "300\n",
      "350\n",
      "400\n",
      "450\n",
      "500\n",
      "550\n",
      "600\n",
      "650\n",
      "700\n",
      "750\n",
      "800\n",
      "850\n",
      "0\n",
      "50\n"
     ]
    }
   ],
   "source": [
    "network.frozen = False\n",
    "network.activity_recordings_rate = np.inf\n",
    "\n",
    "#'''\n",
    "input_params[\"num_days\"] = 900\n",
    "input_params[\"day_length\"] = 80\n",
    "input_params[\"mean_duration\"] = 5\n",
    "latent_specs[\"prob_list\"] = original_prob_list\n",
    "input_params[\"latent_space\"] = LatentSpace(**latent_specs)\n",
    "input, input_episodes, input_latents, network = test_network(network, input_params, print_rate=50)\n",
    "#'''\n",
    "\n",
    "latent_specs[\"prob_list\"] = original_prob_list\n",
    "input_params[\"latent_space\"] = LatentSpace(**latent_specs)\n",
    "\n",
    "network.init_recordings(recording_parameters)\n",
    "network.frozen = True\n",
    "network.activity_recordings_rate = 1\n",
    "network.connectivity_recordings_rate = np.inf\n",
    "\n",
    "input_params[\"num_days\"] = 100\n",
    "input, input_episodes, input_latents, network = test_network(network, input_params, sleep=True, print_rate=50)\n",
    "\n",
    "\n",
    "\n",
    "X_ctx = torch.stack(network.activity_recordings[\"ctx\"], dim=0)[network.awake_indices][-100*input_params[\"day_length\"]:]\n",
    "X_mtl_sparse = torch.stack(network.activity_recordings[\"mtl_sparse\"], dim=0)[network.awake_indices][-100*input_params[\"day_length\"]:]\n",
    "X_mtl_dense = torch.stack(network.activity_recordings[\"mtl_dense\"], dim=0)[network.awake_indices][-100*input_params[\"day_length\"]:]\n",
    "\n",
    "X_latent_A = F.one_hot(input_latents[-100:, :, 0].long(), num_classes=latent_specs[\"dims\"][0])\n",
    "X_latent_B = F.one_hot(input_latents[-100:, :, 1].long(), num_classes=latent_specs[\"dims\"][1])\n",
    "X_latent_AB = torch.cat((X_latent_A, X_latent_B), axis=2)\n",
    "\n",
    "\n",
    "selectivity_ctx, ordered_indices_ctx = get_ordered_indices(X_ctx, X_latent_AB, assembly_size=10)\n",
    "selectivity_mtl_sparse, ordered_indices_mtl_sparse = get_ordered_indices(X_mtl_sparse, X_latent_AB, assembly_size=5)\n",
    "selectivity_mtl_dense, ordered_indices_mtl_dense = get_ordered_indices(X_mtl_dense, X_latent_AB, assembly_size=10)\n",
    "\n",
    "\n"
   ]
  },
  {
   "cell_type": "code",
   "execution_count": 20,
   "metadata": {},
   "outputs": [],
   "source": [
    "accuracy_mtl_sparse = get_accuracy(X_mtl_sparse[:, ordered_indices_mtl_sparse[:50]], input_latents.reshape((-1, 2)), assembly_size=5)\n",
    "accuracy_ctx = get_accuracy(X_ctx[:, ordered_indices_ctx[:100]], input_latents.reshape((-1, 2)), assembly_size=10)"
   ]
  },
  {
   "cell_type": "code",
   "execution_count": 9,
   "metadata": {},
   "outputs": [
    {
     "data": {
      "text/plain": [
       "<matplotlib.image.AxesImage at 0x371cecf40>"
      ]
     },
     "execution_count": 9,
     "metadata": {},
     "output_type": "execute_result"
    },
    {
     "data": {
      "image/png": "[encoded data removed]",
      "text/plain": [
       "<Figure size 640x480 with 1 Axes>"
      ]
     },
     "metadata": {},
     "output_type": "display_data"
    }
   ],
   "source": [
    "plt.imshow(network.ctx_mtl[ordered_indices_ctx[:100], :][:, ordered_indices_mtl_dense], cmap='gray')"
   ]
  },
  {
   "cell_type": "code",
   "execution_count": null,
   "metadata": {},
   "outputs": [],
   "source": [
    "plt.imshow(network.ctx_mtl[ordered_indices_ctx[:100], :][:, ordered_indices_mtl_dense], cmap='gray')"
   ]
  },
  {
   "cell_type": "code",
   "execution_count": 31,
   "metadata": {},
   "outputs": [
    {
     "data": {
      "text/plain": [
       "<matplotlib.image.AxesImage at 0x385394520>"
      ]
     },
     "execution_count": 31,
     "metadata": {},
     "output_type": "execute_result"
    },
    {
     "data": {
      "image/png": "[encoded data removed]",
      "text/plain": [
       "<Figure size 640x480 with 1 Axes>"
      ]
     },
     "metadata": {},
     "output_type": "display_data"
    }
   ],
   "source": [
    "plt.imshow(network.ctx_mtl[ordered_indices_ctx[:100], :][:, ordered_indices_mtl_dense], cmap='gray')"
   ]
  },
  {
   "cell_type": "code",
   "execution_count": 42,
   "metadata": {},
   "outputs": [
    {
     "data": {
      "text/plain": [
       "(tensor([0.9729, 0.9818]), tensor([0.9699, 0.9777]))"
      ]
     },
     "execution_count": 42,
     "metadata": {},
     "output_type": "execute_result"
    }
   ],
   "source": [
    "accuracy_ctx, accuracy_mtl_sparse"
   ]
  },
  {
   "cell_type": "code",
   "execution_count": 15,
   "metadata": {},
   "outputs": [
    {
     "data": {
      "text/plain": [
       "(tensor([0.9377, 0.9538]), tensor([0.9352, 0.9525]))"
      ]
     },
     "execution_count": 15,
     "metadata": {},
     "output_type": "execute_result"
    }
   ],
   "source": [
    "accuracy_ctx, accuracy_mtl_sparse"
   ]
  },
  {
   "cell_type": "code",
   "execution_count": 18,
   "metadata": {},
   "outputs": [
    {
     "ename": "NameError",
     "evalue": "name 'sns' is not defined",
     "output_type": "error",
     "traceback": [
      "\u001b[0;31m---------------------------------------------------------------------------\u001b[0m",
      "\u001b[0;31mNameError\u001b[0m                                 Traceback (most recent call last)",
      "Cell \u001b[0;32mIn[18], line 6\u001b[0m\n\u001b[1;32m      4\u001b[0m plt\u001b[38;5;241m.\u001b[39mxlabel(\u001b[38;5;124m'\u001b[39m\u001b[38;5;124mSelectivity\u001b[39m\u001b[38;5;124m'\u001b[39m, fontsize\u001b[38;5;241m=\u001b[39m\u001b[38;5;241m20\u001b[39m)\n\u001b[1;32m      5\u001b[0m plt\u001b[38;5;241m.\u001b[39mylabel(\u001b[38;5;124m'\u001b[39m\u001b[38;5;124mNeuron Count\u001b[39m\u001b[38;5;124m'\u001b[39m, fontsize\u001b[38;5;241m=\u001b[39m\u001b[38;5;241m20\u001b[39m)\n\u001b[0;32m----> 6\u001b[0m \u001b[43msns\u001b[49m\u001b[38;5;241m.\u001b[39mdespine()\n\u001b[1;32m      7\u001b[0m plt\u001b[38;5;241m.\u001b[39mxticks([\u001b[38;5;241m-\u001b[39m\u001b[38;5;241m0.5\u001b[39m, \u001b[38;5;241m0\u001b[39m, \u001b[38;5;241m0.5\u001b[39m, \u001b[38;5;241m1\u001b[39m], fontsize\u001b[38;5;241m=\u001b[39m\u001b[38;5;241m18\u001b[39m)\n\u001b[1;32m      8\u001b[0m plt\u001b[38;5;241m.\u001b[39myticks([])\n",
      "\u001b[0;31mNameError\u001b[0m: name 'sns' is not defined"
     ]
    },
    {
     "data": {
      "image/png": "[encoded data removed]",
      "text/plain": [
       "<Figure size 300x300 with 1 Axes>"
      ]
     },
     "metadata": {},
     "output_type": "display_data"
    }
   ],
   "source": [
    "\n",
    "\n",
    "fig = plt.figure(figsize=(3, 3))\n",
    "plt.hist(selectivity_mtl_dense[selectivity_mtl_dense != 0].flatten(), bins=80, label=\"MTL-sensory\", alpha=0.5, color=green)\n",
    "plt.hist(selectivity_mtl_sparse[selectivity_mtl_sparse != 0].flatten(), bins=80, label=\"MTL-semantic\", alpha=1, color=orange)\n",
    "plt.xlabel('Selectivity', fontsize=20)\n",
    "plt.ylabel('Neuron Count', fontsize=20)\n",
    "sns.despine()\n",
    "plt.xticks([-0.5, 0, 0.5, 1], fontsize=18)\n",
    "plt.yticks([])\n",
    "plt.legend(fontsize=18, frameon=False)\n",
    "plt.savefig('Figures_SVG/5c1.svg', dpi=300, transparent=True)"
   ]
  },
  {
   "cell_type": "code",
   "execution_count": 7,
   "metadata": {},
   "outputs": [
    {
     "name": "stdout",
     "output_type": "stream",
     "text": [
      "0\n",
      "0\n",
      "0\n",
      "0\n",
      "0\n",
      "0\n",
      "0\n",
      "0\n",
      "0\n",
      "0\n",
      "0\n",
      "50\n"
     ]
    }
   ],
   "source": [
    "\n",
    "if training == 'blocked':\n",
    "\n",
    "    original_prob_list = deepcopy(latent_specs[\"prob_list\"])\n",
    "\n",
    "    input_params[\"num_days\"] = 20\n",
    "    input_params[\"day_length\"] = 200\n",
    "    input_params[\"mean_duration\"] = 1\n",
    "\n",
    "    latent_specs[\"prob_list\"] = [0.2 if i==0 else 0 for i in range(5) for j in range(5)]\n",
    "    input_params[\"latent_space\"] = LatentSpace(**latent_specs)\n",
    "\n",
    "    network = SSCNetwork(network_parameters, recording_parameters)\n",
    "    input, input_episodes, input_latents, network = test_network(network, input_params, print_rate=50)\n",
    "\n",
    "    for k in range(1, 5):\n",
    "        latent_specs[\"prob_list\"] = [0.2 if i==k else 0 for i in range(5) for j in range(5)]\n",
    "        input_params[\"latent_space\"] = LatentSpace(**latent_specs)\n",
    "        input, input_episodes, input_latents, network = test_network(network, input_params, print_rate=50)\n",
    "\n",
    "    for k in range(5):\n",
    "        latent_specs[\"prob_list\"] = [0.2 if j==k else 0 for i in range(5) for j in range(5)]\n",
    "        input_params[\"latent_space\"] = LatentSpace(**latent_specs)\n",
    "        input, input_episodes, input_latents, network = test_network(network, input_params, print_rate=50)\n",
    "\n",
    "    '''\n",
    "    input_params[\"num_days\"] = 900\n",
    "    input_params[\"day_length\"] = 80\n",
    "    input_params[\"mean_duration\"] = 5\n",
    "    latent_specs[\"prob_list\"] = original_prob_list\n",
    "    input_params[\"latent_space\"] = LatentSpace(**latent_specs)\n",
    "    input, input_episodes, input_latents, network = test_network(network, input_params, print_rate=50)\n",
    "    '''\n",
    "\n",
    "    latent_specs[\"prob_list\"] = original_prob_list\n",
    "    input_params[\"latent_space\"] = LatentSpace(**latent_specs)\n",
    "\n",
    "    network.init_recordings(recording_parameters)\n",
    "    network.frozen = True\n",
    "    network.activity_recordings_rate = 1\n",
    "    network.connectivity_recordings_rate = np.inf\n",
    "\n",
    "    input_params[\"num_days\"] = 100\n",
    "    input, input_episodes, input_latents, network = test_network(network, input_params, sleep=True, print_rate=50)\n",
    "\n",
    "\n",
    "\n",
    "X_ctx = torch.stack(network.activity_recordings[\"ctx\"], dim=0)[network.awake_indices][-100*input_params[\"day_length\"]:]\n",
    "X_mtl_sparse = torch.stack(network.activity_recordings[\"mtl_sparse\"], dim=0)[network.awake_indices][-100*input_params[\"day_length\"]:]\n",
    "X_mtl_dense = torch.stack(network.activity_recordings[\"mtl_dense\"], dim=0)[network.awake_indices][-100*input_params[\"day_length\"]:]\n",
    "\n",
    "X_latent_A = F.one_hot(input_latents[-100:, :, 0].long(), num_classes=latent_specs[\"dims\"][0])\n",
    "X_latent_B = F.one_hot(input_latents[-100:, :, 1].long(), num_classes=latent_specs[\"dims\"][1])\n",
    "X_latent_AB = torch.cat((X_latent_A, X_latent_B), axis=2)\n",
    "\n",
    "\n",
    "selectivity_ctx, ordered_indices_ctx = get_ordered_indices(X_ctx, X_latent_AB, assembly_size=10)\n",
    "selectivity_mtl_sparse, ordered_indices_mtl_sparse = get_ordered_indices(X_mtl_sparse, X_latent_AB, assembly_size=5)\n",
    "selectivity_mtl_dense, ordered_indices_mtl_dense = get_ordered_indices(X_mtl_dense, X_latent_AB, assembly_size=10)\n",
    "\n",
    "\n",
    "accuracy_mtl_sparse = get_accuracy(X_mtl_sparse[:, ordered_indices_mtl_sparse[:50]], input_latents.reshape((-1, 2)), assembly_size=5)\n",
    "accuracy_ctx = get_accuracy(X_ctx[:, ordered_indices_ctx[:100]], input_latents.reshape((-1, 2)), assembly_size=10)"
   ]
  },
  {
   "cell_type": "code",
   "execution_count": 9,
   "metadata": {},
   "outputs": [
    {
     "data": {
      "text/plain": [
       "<matplotlib.image.AxesImage at 0x14cbd8be0>"
      ]
     },
     "execution_count": 9,
     "metadata": {},
     "output_type": "execute_result"
    },
    {
     "data": {
      "image/png": "[encoded data removed]",
      "text/plain": [
       "<Figure size 640x480 with 1 Axes>"
      ]
     },
     "metadata": {},
     "output_type": "display_data"
    }
   ],
   "source": [
    "plt.imshow(network.ctx_mtl[ordered_indices_ctx[:100], :][:, ordered_indices_mtl_dense], cmap='gray')"
   ]
  },
  {
   "cell_type": "code",
   "execution_count": 19,
   "metadata": {},
   "outputs": [
    {
     "data": {
      "text/plain": [
       "<matplotlib.image.AxesImage at 0x348adeaf0>"
      ]
     },
     "execution_count": 19,
     "metadata": {},
     "output_type": "execute_result"
    },
    {
     "data": {
      "image/png": "[encoded data removed]",
      "text/plain": [
       "<Figure size 640x480 with 1 Axes>"
      ]
     },
     "metadata": {},
     "output_type": "display_data"
    }
   ],
   "source": [
    "plt.imshow(network.ctx_mtl[ordered_indices_ctx[:100], 100:][:, ordered_indices_mtl_sparse], cmap='gray')"
   ]
  },
  {
   "cell_type": "code",
   "execution_count": 7,
   "metadata": {},
   "outputs": [],
   "source": [
    "accuracy_ctx = get_accuracy(X_ctx[:, ordered_indices_ctx[:100]], input_latents.reshape((-1, 2)), assembly_size=10)"
   ]
  },
  {
   "cell_type": "code",
   "execution_count": 9,
   "metadata": {},
   "outputs": [
    {
     "data": {
      "text/plain": [
       "(tensor([0.8298, 0.9499]), tensor([0.8286, 0.9501]))"
      ]
     },
     "execution_count": 9,
     "metadata": {},
     "output_type": "execute_result"
    }
   ],
   "source": [
    "accuracy_ctx, accuracy_mtl_sparse"
   ]
  },
  {
   "cell_type": "code",
   "execution_count": 8,
   "metadata": {},
   "outputs": [
    {
     "data": {
      "text/plain": [
       "(tensor([0.9253, 0.9488]), tensor([0.2192, 0.2147]))"
      ]
     },
     "execution_count": 8,
     "metadata": {},
     "output_type": "execute_result"
    }
   ],
   "source": [
    "accuracy_ctx, accuracy_mtl_sparse"
   ]
  },
  {
   "cell_type": "code",
   "execution_count": 5,
   "metadata": {},
   "outputs": [
    {
     "data": {
      "text/plain": [
       "torch.return_types.max(\n",
       "values=tensor([0.9644, 0.9666, 0.9662, 0.9661, 0.9672, 0.9623, 0.9663, 0.9642, 0.9673,\n",
       "        0.9645, 0.9206, 0.9211, 0.8938, 0.9144, 0.9163, 0.9130, 0.9153, 0.9163,\n",
       "        0.9142, 0.9193, 0.9119, 0.9119, 0.8066, 0.9137, 0.9082, 0.9098, 0.9071,\n",
       "        0.9121, 0.9092, 0.8998, 0.9728, 0.9725, 0.9728, 0.9736, 0.9713, 0.9719,\n",
       "        0.9708, 0.9726, 0.9727, 0.9727, 0.9710, 0.9809, 0.9707, 0.9697, 0.9716,\n",
       "        0.9707, 0.9711, 0.9708, 0.9710, 0.9720, 0.9652, 0.9599, 0.9630, 0.9577,\n",
       "        0.9608, 0.9594, 0.9625, 0.9604, 0.9591, 0.9606, 0.9835, 0.9811, 0.9821,\n",
       "        0.9813, 0.9787, 0.9841, 0.9781, 0.9832, 0.9811, 0.9805, 0.9747, 0.9759,\n",
       "        0.9753, 0.9740, 0.9751, 0.9746, 0.9760, 0.9759, 0.9751, 0.9754, 0.9793,\n",
       "        0.9800, 0.9761, 0.9803, 0.9785, 0.9762, 0.9779, 0.9793, 0.9791, 0.9794,\n",
       "        0.9934, 0.9924, 0.9926, 0.8830, 0.9920, 0.9924, 0.9929, 0.9929, 0.9926,\n",
       "        0.9931]),\n",
       "indices=tensor([0, 0, 0, 0, 0, 0, 0, 0, 0, 0, 1, 1, 1, 1, 1, 1, 1, 1, 1, 1, 2, 2, 2, 2,\n",
       "        2, 2, 2, 2, 2, 2, 3, 3, 3, 3, 3, 3, 3, 3, 3, 3, 4, 4, 4, 4, 4, 4, 4, 4,\n",
       "        4, 4, 5, 5, 5, 5, 5, 5, 5, 5, 5, 5, 6, 6, 6, 6, 6, 6, 6, 6, 6, 6, 7, 7,\n",
       "        7, 7, 7, 7, 7, 7, 7, 7, 8, 8, 8, 8, 8, 8, 8, 8, 8, 8, 9, 9, 9, 9, 9, 9,\n",
       "        9, 9, 9, 9]))"
      ]
     },
     "execution_count": 5,
     "metadata": {},
     "output_type": "execute_result"
    }
   ],
   "source": [
    "selectivity_ctx[ordered_indices_ctx[:100]].max(axis=1)"
   ]
  },
  {
   "cell_type": "code",
   "execution_count": 7,
   "metadata": {},
   "outputs": [
    {
     "data": {
      "text/plain": [
       "tensor([0, 0, 0, 0, 0, 0, 0, 0, 0, 0, 1, 1, 1, 1, 1, 1, 1, 1, 1, 1, 2, 2, 2, 2,\n",
       "        2, 2, 2, 2, 2, 2, 3, 3, 3, 3, 3, 3, 3, 3, 3, 3, 4, 4, 4, 4, 4, 4, 4, 4,\n",
       "        4, 4, 1, 4, 3, 2, 0, 3, 3, 3, 3, 4, 0, 3, 0, 4, 2, 0, 1, 3, 0, 4, 4, 3,\n",
       "        1, 3, 1, 2, 2, 2, 3, 1, 2, 4, 0, 4, 1, 2, 2, 4, 4, 3, 0, 0, 3, 4, 2, 0,\n",
       "        1, 3, 4, 0])"
      ]
     },
     "execution_count": 7,
     "metadata": {},
     "output_type": "execute_result"
    }
   ],
   "source": [
    "selectivity_ctx[ordered_indices_ctx[:100]].argmax(axis=1)"
   ]
  },
  {
   "cell_type": "code",
   "execution_count": 8,
   "metadata": {},
   "outputs": [],
   "source": [
    "import matplotlib.pyplot as plt"
   ]
  },
  {
   "cell_type": "code",
   "execution_count": 6,
   "metadata": {},
   "outputs": [
    {
     "data": {
      "text/plain": [
       "tensor([0.2223, 0.2175])"
      ]
     },
     "execution_count": 6,
     "metadata": {},
     "output_type": "execute_result"
    }
   ],
   "source": [
    "accuracy"
   ]
  },
  {
   "cell_type": "code",
   "execution_count": 27,
   "metadata": {},
   "outputs": [
    {
     "data": {
      "text/plain": [
       "<matplotlib.image.AxesImage at 0x358c8d460>"
      ]
     },
     "execution_count": 27,
     "metadata": {},
     "output_type": "execute_result"
    },
    {
     "data": {
      "image/png": "[encoded data removed]",
      "text/plain": [
       "<Figure size 640x480 with 1 Axes>"
      ]
     },
     "metadata": {},
     "output_type": "display_data"
    }
   ],
   "source": [
    "plt.imshow(torch.stack(network.activity_recordings[\"ctx\"], axis=0)[network.awake_indices][-16, ordered_indices_ctx[:100]].reshape((-1, 10)))"
   ]
  },
  {
   "cell_type": "code",
   "execution_count": 15,
   "metadata": {},
   "outputs": [
    {
     "data": {
      "text/plain": [
       "(array([3.83000e+02, 7.42000e+02, 1.04600e+03, 1.32500e+03, 1.38900e+03,\n",
       "        1.37000e+03, 1.62900e+03, 1.64800e+03, 1.74200e+03, 1.80500e+03,\n",
       "        1.79000e+03, 1.71500e+03, 1.70600e+03, 1.79500e+03, 1.70300e+03,\n",
       "        1.68000e+03, 1.79800e+03, 1.69900e+03, 1.73600e+03, 1.66600e+03,\n",
       "        1.67400e+03, 1.77000e+03, 1.65200e+03, 1.74800e+03, 1.85700e+03,\n",
       "        1.78500e+03, 1.85800e+03, 1.95100e+03, 1.93100e+03, 2.00400e+03,\n",
       "        2.07400e+03, 2.00100e+03, 1.90900e+03, 1.78000e+03, 1.96900e+03,\n",
       "        1.82200e+03, 1.73700e+03, 1.79700e+03, 1.78900e+03, 1.59700e+03,\n",
       "        1.64100e+03, 1.55500e+03, 1.35400e+03, 1.41300e+03, 1.26300e+03,\n",
       "        1.35200e+03, 1.28200e+03, 1.24500e+03, 1.15800e+03, 1.20100e+03,\n",
       "        1.07700e+03, 1.04300e+03, 9.28000e+02, 8.97000e+02, 8.93000e+02,\n",
       "        9.03000e+02, 9.39000e+02, 8.90000e+02, 7.88000e+02, 7.53000e+02,\n",
       "        5.83000e+02, 5.84000e+02, 5.94000e+02, 5.29000e+02, 5.69000e+02,\n",
       "        5.79000e+02, 5.60000e+02, 4.76000e+02, 4.75000e+02, 4.42000e+02,\n",
       "        3.59000e+02, 3.45000e+02, 2.74000e+02, 2.86000e+02, 2.57000e+02,\n",
       "        2.50000e+02, 2.27000e+02, 2.47000e+02, 2.02000e+02, 1.97000e+02,\n",
       "        1.73000e+02, 1.31000e+02, 1.74000e+02, 1.37000e+02, 1.09000e+02,\n",
       "        1.48000e+02, 1.37000e+02, 1.15000e+02, 6.80000e+01, 9.80000e+01,\n",
       "        9.70000e+01, 8.30000e+01, 4.70000e+01, 7.40000e+01, 3.80000e+01,\n",
       "        7.00000e+01, 6.40000e+01, 6.20000e+01, 4.20000e+01, 4.10000e+01,\n",
       "        6.70000e+01, 5.60000e+01, 2.20000e+01, 2.00000e+01, 4.50000e+01,\n",
       "        3.30000e+01, 9.00000e+00, 8.00000e+00, 1.10000e+01, 4.00000e+00,\n",
       "        2.30000e+01, 1.80000e+01, 1.10000e+01, 2.00000e+00, 3.00000e+00,\n",
       "        8.00000e+00, 6.00000e+00, 5.00000e+00, 6.00000e+00, 1.00000e+00,\n",
       "        1.00000e+00, 6.00000e+00, 3.00000e+00, 3.00000e+00, 6.00000e+00,\n",
       "        1.00000e+00, 1.00000e+00, 4.00000e+00, 1.20000e+01, 3.00000e+00,\n",
       "        0.00000e+00, 2.00000e+00, 0.00000e+00, 0.00000e+00, 0.00000e+00,\n",
       "        0.00000e+00, 0.00000e+00, 0.00000e+00, 1.00000e+00, 0.00000e+00,\n",
       "        5.00000e+00, 4.00000e+00, 0.00000e+00, 0.00000e+00, 0.00000e+00,\n",
       "        0.00000e+00, 0.00000e+00, 0.00000e+00, 0.00000e+00, 0.00000e+00,\n",
       "        0.00000e+00, 0.00000e+00, 0.00000e+00, 0.00000e+00, 0.00000e+00,\n",
       "        0.00000e+00, 0.00000e+00, 0.00000e+00, 0.00000e+00, 0.00000e+00,\n",
       "        0.00000e+00, 0.00000e+00, 0.00000e+00, 0.00000e+00, 0.00000e+00,\n",
       "        0.00000e+00, 0.00000e+00, 0.00000e+00, 0.00000e+00, 0.00000e+00,\n",
       "        0.00000e+00, 0.00000e+00, 0.00000e+00, 0.00000e+00, 0.00000e+00,\n",
       "        0.00000e+00, 0.00000e+00, 0.00000e+00, 0.00000e+00, 0.00000e+00,\n",
       "        0.00000e+00, 0.00000e+00, 0.00000e+00, 0.00000e+00, 0.00000e+00,\n",
       "        0.00000e+00, 0.00000e+00, 0.00000e+00, 0.00000e+00, 0.00000e+00,\n",
       "        0.00000e+00, 0.00000e+00, 0.00000e+00, 0.00000e+00, 0.00000e+00,\n",
       "        2.70000e+02, 3.58360e+04, 1.94985e+05, 6.77690e+04, 1.14000e+03]),\n",
       " array([-6.00124349e-06,  3.03017977e-03,  6.06636051e-03,  9.10254195e-03,\n",
       "         1.21387225e-02,  1.51749039e-02,  1.82110835e-02,  2.12472659e-02,\n",
       "         2.42834464e-02,  2.73196269e-02,  3.03558074e-02,  3.33919898e-02,\n",
       "         3.64281684e-02,  3.94643508e-02,  4.25005332e-02,  4.55367118e-02,\n",
       "         4.85728942e-02,  5.16090766e-02,  5.46452552e-02,  5.76814376e-02,\n",
       "         6.07176162e-02,  6.37537986e-02,  6.67899773e-02,  6.98261634e-02,\n",
       "         7.28623420e-02,  7.58985206e-02,  7.89347067e-02,  8.19708854e-02,\n",
       "         8.50070640e-02,  8.80432427e-02,  9.10794288e-02,  9.41156074e-02,\n",
       "         9.71517861e-02,  1.00187972e-01,  1.03224151e-01,  1.06260329e-01,\n",
       "         1.09296516e-01,  1.12332694e-01,  1.15368873e-01,  1.18405059e-01,\n",
       "         1.21441238e-01,  1.24477416e-01,  1.27513602e-01,  1.30549774e-01,\n",
       "         1.33585960e-01,  1.36622146e-01,  1.39658317e-01,  1.42694503e-01,\n",
       "         1.45730689e-01,  1.48766860e-01,  1.51803046e-01,  1.54839233e-01,\n",
       "         1.57875404e-01,  1.60911590e-01,  1.63947776e-01,  1.66983947e-01,\n",
       "         1.70020133e-01,  1.73056319e-01,  1.76092491e-01,  1.79128677e-01,\n",
       "         1.82164848e-01,  1.85201034e-01,  1.88237220e-01,  1.91273391e-01,\n",
       "         1.94309577e-01,  1.97345763e-01,  2.00381935e-01,  2.03418121e-01,\n",
       "         2.06454307e-01,  2.09490478e-01,  2.12526664e-01,  2.15562850e-01,\n",
       "         2.18599021e-01,  2.21635208e-01,  2.24671394e-01,  2.27707565e-01,\n",
       "         2.30743751e-01,  2.33779937e-01,  2.36816108e-01,  2.39852294e-01,\n",
       "         2.42888480e-01,  2.45924652e-01,  2.48960838e-01,  2.51997024e-01,\n",
       "         2.55033195e-01,  2.58069366e-01,  2.61105567e-01,  2.64141738e-01,\n",
       "         2.67177910e-01,  2.70214111e-01,  2.73250282e-01,  2.76286453e-01,\n",
       "         2.79322654e-01,  2.82358825e-01,  2.85394996e-01,  2.88431197e-01,\n",
       "         2.91467369e-01,  2.94503540e-01,  2.97539741e-01,  3.00575912e-01,\n",
       "         3.03612083e-01,  3.06648284e-01,  3.09684455e-01,  3.12720627e-01,\n",
       "         3.15756828e-01,  3.18792999e-01,  3.21829170e-01,  3.24865371e-01,\n",
       "         3.27901542e-01,  3.30937713e-01,  3.33973914e-01,  3.37010086e-01,\n",
       "         3.40046257e-01,  3.43082458e-01,  3.46118629e-01,  3.49154800e-01,\n",
       "         3.52191001e-01,  3.55227172e-01,  3.58263344e-01,  3.61299545e-01,\n",
       "         3.64335716e-01,  3.67371887e-01,  3.70408088e-01,  3.73444259e-01,\n",
       "         3.76480430e-01,  3.79516602e-01,  3.82552803e-01,  3.85588974e-01,\n",
       "         3.88625145e-01,  3.91661346e-01,  3.94697517e-01,  3.97733688e-01,\n",
       "         4.00769889e-01,  4.03806061e-01,  4.06842232e-01,  4.09878433e-01,\n",
       "         4.12914604e-01,  4.15950775e-01,  4.18986976e-01,  4.22023147e-01,\n",
       "         4.25059319e-01,  4.28095520e-01,  4.31131691e-01,  4.34167862e-01,\n",
       "         4.37204063e-01,  4.40240234e-01,  4.43276405e-01,  4.46312606e-01,\n",
       "         4.49348778e-01,  4.52384949e-01,  4.55421150e-01,  4.58457321e-01,\n",
       "         4.61493492e-01,  4.64529693e-01,  4.67565864e-01,  4.70602036e-01,\n",
       "         4.73638237e-01,  4.76674408e-01,  4.79710579e-01,  4.82746780e-01,\n",
       "         4.85782951e-01,  4.88819122e-01,  4.91855323e-01,  4.94891495e-01,\n",
       "         4.97927666e-01,  5.00963867e-01,  5.04000008e-01,  5.07036209e-01,\n",
       "         5.10072410e-01,  5.13108552e-01,  5.16144753e-01,  5.19180954e-01,\n",
       "         5.22217095e-01,  5.25253296e-01,  5.28289497e-01,  5.31325638e-01,\n",
       "         5.34361839e-01,  5.37398040e-01,  5.40434182e-01,  5.43470383e-01,\n",
       "         5.46506584e-01,  5.49542725e-01,  5.52578926e-01,  5.55615127e-01,\n",
       "         5.58651268e-01,  5.61687469e-01,  5.64723670e-01,  5.67759812e-01,\n",
       "         5.70796013e-01,  5.73832214e-01,  5.76868355e-01,  5.79904556e-01,\n",
       "         5.82940757e-01,  5.85976899e-01,  5.89013100e-01,  5.92049301e-01,\n",
       "         5.95085442e-01,  5.98121643e-01,  6.01157844e-01,  6.04193985e-01,\n",
       "         6.07230186e-01]),\n",
       " <BarContainer object of 200 artists>)"
      ]
     },
     "execution_count": 15,
     "metadata": {},
     "output_type": "execute_result"
    },
    {
     "data": {
      "image/png": "[encoded data removed]",
      "text/plain": [
       "<Figure size 640x480 with 1 Axes>"
      ]
     },
     "metadata": {},
     "output_type": "display_data"
    }
   ],
   "source": [
    "plt.hist(torch.stack(network.activity_recordings[\"ctx_hat\"], axis=0)[network.sleep_indices_A].flatten(), bins=200)"
   ]
  },
  {
   "cell_type": "code",
   "execution_count": 18,
   "metadata": {},
   "outputs": [],
   "source": [
    "mtl_sleep = torch.stack(network.activity_recordings[\"mtl_dense\"], axis=0)[network.sleep_indices_A]"
   ]
  },
  {
   "cell_type": "code",
   "execution_count": 20,
   "metadata": {},
   "outputs": [],
   "source": [
    "overlaps = []\n",
    "for index_1, mtl_1 in enumerate(mtl_sleep):\n",
    "    for index_2, mtl_2 in enumerate(mtl_sleep):\n",
    "        if index_1 != index_2:\n",
    "            overlaps.append(get_cos_sim_torch(mtl_1, mtl_2))"
   ]
  },
  {
   "cell_type": "code",
   "execution_count": 22,
   "metadata": {},
   "outputs": [
    {
     "data": {
      "text/plain": [
       "(array([3.29442e+05, 0.00000e+00, 0.00000e+00, 0.00000e+00, 0.00000e+00,\n",
       "        0.00000e+00, 0.00000e+00, 0.00000e+00, 0.00000e+00, 0.00000e+00,\n",
       "        0.00000e+00, 0.00000e+00, 0.00000e+00, 0.00000e+00, 4.08490e+05,\n",
       "        0.00000e+00, 0.00000e+00, 0.00000e+00, 0.00000e+00, 0.00000e+00,\n",
       "        0.00000e+00, 0.00000e+00, 0.00000e+00, 0.00000e+00, 0.00000e+00,\n",
       "        0.00000e+00, 0.00000e+00, 0.00000e+00, 2.01246e+05, 0.00000e+00,\n",
       "        0.00000e+00, 0.00000e+00, 0.00000e+00, 0.00000e+00, 0.00000e+00,\n",
       "        0.00000e+00, 0.00000e+00, 0.00000e+00, 0.00000e+00, 0.00000e+00,\n",
       "        0.00000e+00, 0.00000e+00, 5.15500e+04, 0.00000e+00, 0.00000e+00,\n",
       "        0.00000e+00, 0.00000e+00, 0.00000e+00, 0.00000e+00, 0.00000e+00,\n",
       "        0.00000e+00, 0.00000e+00, 0.00000e+00, 0.00000e+00, 0.00000e+00,\n",
       "        0.00000e+00, 0.00000e+00, 7.57400e+03, 0.00000e+00, 0.00000e+00,\n",
       "        0.00000e+00, 0.00000e+00, 0.00000e+00, 0.00000e+00, 0.00000e+00,\n",
       "        0.00000e+00, 0.00000e+00, 0.00000e+00, 0.00000e+00, 0.00000e+00,\n",
       "        0.00000e+00, 6.68000e+02, 0.00000e+00, 0.00000e+00, 0.00000e+00,\n",
       "        0.00000e+00, 0.00000e+00, 0.00000e+00, 0.00000e+00, 0.00000e+00,\n",
       "        0.00000e+00, 0.00000e+00, 0.00000e+00, 0.00000e+00, 0.00000e+00,\n",
       "        2.80000e+01, 0.00000e+00, 0.00000e+00, 0.00000e+00, 0.00000e+00,\n",
       "        0.00000e+00, 0.00000e+00, 0.00000e+00, 0.00000e+00, 0.00000e+00,\n",
       "        0.00000e+00, 0.00000e+00, 0.00000e+00, 0.00000e+00, 2.00000e+00]),\n",
       " array([0.        , 0.007     , 0.014     , 0.021     , 0.028     ,\n",
       "        0.035     , 0.042     , 0.049     , 0.056     , 0.063     ,\n",
       "        0.07      , 0.077     , 0.084     , 0.091     , 0.098     ,\n",
       "        0.105     , 0.112     , 0.119     , 0.126     , 0.133     ,\n",
       "        0.14      , 0.147     , 0.154     , 0.161     , 0.168     ,\n",
       "        0.175     , 0.182     , 0.189     , 0.19599999, 0.20299999,\n",
       "        0.20999999, 0.21699999, 0.22399999, 0.23099999, 0.23799999,\n",
       "        0.24499999, 0.252     , 0.259     , 0.266     , 0.273     ,\n",
       "        0.28      , 0.287     , 0.294     , 0.301     , 0.308     ,\n",
       "        0.315     , 0.322     , 0.329     , 0.336     , 0.34299999,\n",
       "        0.34999999, 0.35699999, 0.36399999, 0.37099999, 0.37799999,\n",
       "        0.38499999, 0.39199999, 0.39899999, 0.40599999, 0.41299999,\n",
       "        0.41999999, 0.42699999, 0.43399999, 0.44099998, 0.44799998,\n",
       "        0.45499998, 0.46199998, 0.46899998, 0.47599998, 0.48299998,\n",
       "        0.48999998, 0.49699998, 0.50400001, 0.51099998, 0.51800001,\n",
       "        0.52499998, 0.53200001, 0.53899997, 0.546     , 0.55299997,\n",
       "        0.56      , 0.56699997, 0.574     , 0.58099997, 0.588     ,\n",
       "        0.59499997, 0.602     , 0.60899997, 0.616     , 0.62299997,\n",
       "        0.63      , 0.63699996, 0.64399999, 0.65099996, 0.65799999,\n",
       "        0.66499996, 0.67199999, 0.67899996, 0.68599999, 0.69299996,\n",
       "        0.69999999]),\n",
       " <BarContainer object of 100 artists>)"
      ]
     },
     "execution_count": 22,
     "metadata": {},
     "output_type": "execute_result"
    },
    {
     "data": {
      "image/png": "[encoded data removed]",
      "text/plain": [
       "<Figure size 640x480 with 1 Axes>"
      ]
     },
     "metadata": {},
     "output_type": "display_data"
    }
   ],
   "source": [
    "plt.hist(overlaps, bins=100)"
   ]
  },
  {
   "cell_type": "code",
   "execution_count": 24,
   "metadata": {},
   "outputs": [
    {
     "data": {
      "text/plain": [
       "tensor(0.7000)"
      ]
     },
     "execution_count": 24,
     "metadata": {},
     "output_type": "execute_result"
    }
   ],
   "source": [
    "torch.max(torch.tensor(overlaps))"
   ]
  },
  {
   "cell_type": "code",
   "execution_count": 2,
   "metadata": {},
   "outputs": [],
   "source": [
    "from src.model import SSCNetwork\n",
    "#from src.model_simple import SSCNetwork\n",
    "from src.utils.general import make_input, LatentSpace, get_ordered_indices"
   ]
  },
  {
   "cell_type": "code",
   "execution_count": 3,
   "metadata": {},
   "outputs": [],
   "source": [
    "network_parameters = {}\n",
    "\n",
    "network_parameters[\"hebbian_filter\"] = False\n",
    "\n",
    "network_parameters[\"duration_phase_A\"] = 1000\n",
    "network_parameters[\"duration_phase_B\"] = 1500\n",
    "\n",
    "network_parameters[\"sleep_duration_A\"] = 10\n",
    "network_parameters[\"sleep_duration_B\"] = 10\n",
    "network_parameters[\"reset_dayly\"] = True\n",
    "\n",
    "network_parameters[\"regions\"] = [\"sen\", \"mtl_sparse\", \"mtl_dense\", \"mtl\", \"ctx\"]\n",
    "\n",
    "network_parameters[\"mtl_pattern_complete_iterations\"] = 10\n",
    "network_parameters[\"mtl_dense_pattern_complete_iterations\"] = 10\n",
    "network_parameters[\"mtl_sparse_pattern_complete_iterations\"] = 10\n",
    "network_parameters[\"ctx_pattern_complete_iterations\"] = 10\n",
    "network_parameters[\"mtl_generate_pattern_complete_iterations\"] = 10\n",
    "\n",
    "network_parameters[\"max_semantic_charge\"] = 2\n",
    "\n",
    "network_parameters[\"sen_num_subregions\"] = 1\n",
    "network_parameters[\"sen_size_subregions\"] = torch.tensor([100])\n",
    "network_parameters[\"sen_sparsity\"] = torch.tensor([0.2])\n",
    "network_parameters[\"sen_sparsity_sleep\"] = torch.tensor([0.2])\n",
    "\n",
    "network_parameters[\"ctx_num_subregions\"] = 2\n",
    "network_parameters[\"ctx_size_subregions\"] =  torch.tensor([100, 250])\n",
    "network_parameters[\"ctx_sparsity\"] = torch.tensor([0.2, 1/25])\n",
    "network_parameters[\"ctx_sparsity_sleep\"] = torch.tensor([0.1, 1/25])\n",
    "\n",
    "network_parameters[\"mtl_num_subregions\"] = 2\n",
    "network_parameters[\"mtl_size_subregions\"] =  torch.tensor([100, 100])\n",
    "network_parameters[\"mtl_sparsity\"] = torch.tensor([0.2, 0.1])\n",
    "network_parameters[\"mtl_sparsity_sleep\"] = torch.tensor([0.1, 0.05])\n",
    "\n",
    "network_parameters[\"mtl_dense_num_subregions\"] = 1\n",
    "network_parameters[\"mtl_dense_size_subregions\"] = torch.tensor([100])\n",
    "network_parameters[\"mtl_dense_sparsity\"] = torch.tensor([0.2])\n",
    "network_parameters[\"mtl_dense_sparsity_sleep\"] = torch.tensor([0.1])\n",
    "\n",
    "network_parameters[\"mtl_sparse_num_subregions\"] = 1\n",
    "network_parameters[\"mtl_sparse_size_subregions\"] = torch.tensor([100])\n",
    "network_parameters[\"mtl_sparse_sparsity\"] = torch.tensor([0.1])\n",
    "network_parameters[\"mtl_sparse_sparsity_sleep\"] = torch.tensor([0.05])\n",
    "\n",
    "network_parameters[\"mtl_dense_sen_projection\"] = False\n",
    "network_parameters[\"mtl_dense_sen_sparsity\"] = 0.5\n",
    "\n",
    "network_parameters[\"ctx_mtl_quick_lmbda\"] = 1e-2\n",
    "network_parameters[\"max_pre_ctx_mtl_quick\"] = np.inf\n",
    "network_parameters[\"max_post_ctx_mtl_quick\"] = 1\n",
    "\n",
    "network_parameters[\"ctx_mtl_sparsity\"] = 0.5\n",
    "network_parameters[\"ctx_mtl_mean\"] = 0.03\n",
    "network_parameters[\"ctx_mtl_std\"] = 0\n",
    "network_parameters[\"ctx_mtl_lmbda\"] = 5e-4\n",
    "network_parameters[\"ctx_mtl_size\"] = 2\n",
    "network_parameters[\"max_pre_ctx_mtl\"] = np.inf\n",
    "network_parameters[\"max_post_ctx_mtl\"] = 1\n",
    "\n",
    "network_parameters[\"ctx_mtl_sparse_mean\"] = 0.07\n",
    "network_parameters[\"ctx_mtl_sparse_std\"] = 0.001\n",
    "network_parameters[\"ctx_mtl_sparse_lmbda\"] = 5e-4\n",
    "network_parameters[\"max_pre_ctx_mtl_sparse\"] = np.inf\n",
    "network_parameters[\"max_post_ctx_mtl_sparse\"] = 1\n",
    "\n",
    "network_parameters[\"ctx_mtl_dense_sparsity\"] = 0.5\n",
    "network_parameters[\"ctx_mtl_dense_g\"] = 0.01\n",
    "\n",
    "network_parameters[\"mtl_mtl_lmbda\"] = 5e-3\n",
    "network_parameters[\"max_pre_mtl_mtl\"] = 1\n",
    "network_parameters[\"max_post_mtl_mtl\"] = np.inf\n",
    "\n",
    "network_parameters[\"mtl_dense_mtl_dense_lmbda\"] = 5e-3\n",
    "network_parameters[\"max_pre_mtl_dense_mtl_dense\"] = 1\n",
    "network_parameters[\"max_post_mtl_dense_mtl_dense\"] = np.inf\n",
    "\n",
    "network_parameters[\"mtl_sparse_mtl_sparse_lmbda\"] = 5e-3\n",
    "network_parameters[\"max_pre_mtl_sparse_mtl_sparse\"] = 1\n",
    "network_parameters[\"max_post_mtl_sparse_mtl_sparse\"] = np.inf\n",
    "\n",
    "network_parameters[\"ctx_ctx_sparsity\"] = 0.05\n",
    "network_parameters[\"ctx_ctx_g\"] = 1e-4\n",
    "network_parameters[\"ctx_ctx_lmbda\"] = 5e-4\n",
    "network_parameters[\"max_pre_ctx_ctx\"] = 1\n",
    "network_parameters[\"max_post_ctx_ctx\"] = np.inf\n",
    "\n",
    "network_parameters[\"mtl_sparse_ctx_mean\"] = 0.03\n",
    "network_parameters[\"mtl_sparse_ctx_std\"] = 0.001\n",
    "network_parameters[\"mtl_sparse_ctx_lmbda\"] = 5e-3\n",
    "network_parameters[\"max_pre_mtl_sparse_ctx\"] = np.inf\n",
    "network_parameters[\"max_post_mtl_sparse_ctx\"] = 1\n",
    "\n",
    "\n",
    "recording_parameters = {}\n",
    "recording_parameters[\"regions\"] = [\"mtl_dense\", \"mtl_sparse\", \"mtl\", \"ctx\", \"ctx_hat\"]\n",
    "recording_parameters[\"rate_activity\"] = 1\n",
    "recording_parameters[\"connections\"] = [\"ctx_mtl\"]\n",
    "\n",
    "#recording_parameters[\"rate_connectivity\"] = 1\n",
    "recording_parameters[\"rate_connectivity\"] = 1"
   ]
  },
  {
   "cell_type": "code",
   "execution_count": 4,
   "metadata": {},
   "outputs": [],
   "source": [
    "input_params = {}\n",
    "input_params[\"num_days\"] = 1000\n",
    "input_params[\"day_length\"] = 40\n",
    "input_params[\"mean_duration\"] = 5\n",
    "input_params[\"fixed_duration\"] = True\n",
    "input_params[\"num_swaps\"] = 0\n",
    "\n",
    "latent_specs = {}\n",
    "latent_specs[\"num\"] = 2\n",
    "latent_specs[\"total_sizes\"] = [50, 50]\n",
    "latent_specs[\"act_sizes\"] = [10, 10]\n",
    "latent_specs[\"dims\"] = [5, 5]"
   ]
  },
  {
   "cell_type": "code",
   "execution_count": 7,
   "metadata": {},
   "outputs": [],
   "source": [
    "latent_specs[\"prob_list\"] = [0.5/5 if i==j else 0.5/20 for i in range(5) for j in range(5)]\n",
    "input_params[\"latent_space\"] = LatentSpace(**latent_specs)\n",
    "\n",
    "\n",
    "\n",
    "input, input_episodes, input_latents = make_input(**input_params)"
   ]
  },
  {
   "cell_type": "code",
   "execution_count": null,
   "metadata": {},
   "outputs": [],
   "source": []
  }
 ],
 "metadata": {
  "kernelspec": {
   "display_name": "Python 3",
   "language": "python",
   "name": "python3"
  },
  "language_info": {
   "codemirror_mode": {
    "name": "ipython",
    "version": 3
   },
   "file_extension": ".py",
   "mimetype": "text/x-python",
   "name": "python",
   "nbconvert_exporter": "python",
   "pygments_lexer": "ipython3",
   "version": "3.9.6"
  }
 },
 "nbformat": 4,
 "nbformat_minor": 2
}
