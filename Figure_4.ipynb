{
 "cells": [
  {
   "cell_type": "code",
   "execution_count": 7,
   "metadata": {},
   "outputs": [],
   "source": [
    "import numpy as np\n",
    "import matplotlib.pyplot as plt\n",
    "from matplotlib.colors import LinearSegmentedColormap\n",
    "import seaborn as sns\n",
    "import cv2\n",
    "import pandas as pd\n",
    "\n",
    "import torch\n",
    "import torch.nn as nn\n",
    "import torch.nn.functional as F\n",
    "import torch.optim as optim\n",
    "\n",
    "from scipy.stats import norm\n",
    "\n",
    "from copy import deepcopy\n",
    "import itertools\n",
    "import random\n",
    "\n",
    "from collections import OrderedDict\n",
    "\n",
    "\n",
    "import torch\n",
    "import torch.nn as nn\n",
    "\n",
    "\n",
    "from torch.utils.data import TensorDataset, DataLoader\n",
    "from sklearn.model_selection import train_test_split\n",
    "from sklearn.metrics import accuracy_score\n",
    "\n",
    "\n",
    "\n",
    "def seed_everything(seed=42):\n",
    "    random.seed(seed)\n",
    "    np.random.seed(seed)\n",
    "    torch.manual_seed(seed)\n",
    "\n",
    "seed_everything(1)\n",
    "\n",
    "\n",
    "\n",
    "\n",
    "blue = '#0073B7'\n",
    "yellow = '#FFD23F'\n",
    "gray = '#7A7A7A'\n",
    "purple = '#B05AA3'\n",
    "green = '#00A651'\n",
    "orange = '#F7941D'\n",
    "\n",
    "\n",
    "blue_yellow = LinearSegmentedColormap.from_list(\n",
    "    \"blue_yellow\", [\"#0073B7\", \"#FFD23F\"]\n",
    ")\n",
    "\n",
    "\n",
    "gray = '#C0C0C0'\n",
    "purple = '#B05AA3'\n",
    "\n",
    "gray_purple = LinearSegmentedColormap.from_list(\n",
    "    \"gray_purple\",\n",
    "    [gray , purple]\n",
    ")"
   ]
  },
  {
   "cell_type": "code",
   "execution_count": 8,
   "metadata": {},
   "outputs": [],
   "source": [
    "from src.model import SSCNetwork\n",
    "from src.utils.general import make_input, LatentSpace, get_ordered_indices"
   ]
  },
  {
   "cell_type": "code",
   "execution_count": 9,
   "metadata": {},
   "outputs": [],
   "source": [
    "network_parameters = {}\n",
    "\n",
    "network_parameters[\"hebbian_filter\"] = False\n",
    "\n",
    "network_parameters[\"duration_phase_A\"] = 1000\n",
    "network_parameters[\"duration_phase_B\"] = 1500\n",
    "\n",
    "network_parameters[\"sleep_duration_A\"] = 10\n",
    "network_parameters[\"sleep_duration_B\"] = 10\n",
    "network_parameters[\"reset_dayly\"] = True\n",
    "\n",
    "network_parameters[\"regions\"] = [\"sen\", \"mtl_sparse\", \"mtl_dense\", \"mtl\", \"ctx\"]\n",
    "\n",
    "network_parameters[\"mtl_pattern_complete_iterations\"] = 10\n",
    "network_parameters[\"mtl_dense_pattern_complete_iterations\"] = 10\n",
    "network_parameters[\"mtl_sparse_pattern_complete_iterations\"] = 10\n",
    "network_parameters[\"ctx_pattern_complete_iterations\"] = 10\n",
    "network_parameters[\"mtl_generate_pattern_complete_iterations\"] = 10\n",
    "\n",
    "network_parameters[\"max_semantic_charge_replay\"] = 1\n",
    "network_parameters[\"max_semantic_charge_input\"] = 2\n",
    "\n",
    "network_parameters[\"sen_num_subregions\"] = 1\n",
    "network_parameters[\"sen_size_subregions\"] = torch.tensor([100])\n",
    "network_parameters[\"sen_sparsity\"] = torch.tensor([0.2])\n",
    "network_parameters[\"sen_sparsity_sleep\"] = torch.tensor([0.2])\n",
    "\n",
    "network_parameters[\"ctx_num_subregions\"] = 2\n",
    "network_parameters[\"ctx_size_subregions\"] =  torch.tensor([100, 300])\n",
    "network_parameters[\"ctx_sparsity\"] = torch.tensor([0.2, 1/30])\n",
    "network_parameters[\"ctx_sparsity_sleep\"] = torch.tensor([0.1, 1/30])\n",
    "\n",
    "network_parameters[\"mtl_num_subregions\"] = 2\n",
    "network_parameters[\"mtl_size_subregions\"] =  torch.tensor([100, 100])\n",
    "network_parameters[\"mtl_sparsity\"] = torch.tensor([0.2, 0.1])\n",
    "network_parameters[\"mtl_sparsity_sleep\"] = torch.tensor([0.1, 0.05])\n",
    "\n",
    "network_parameters[\"mtl_dense_num_subregions\"] = 1\n",
    "network_parameters[\"mtl_dense_size_subregions\"] = torch.tensor([100])\n",
    "network_parameters[\"mtl_dense_sparsity\"] = torch.tensor([0.2])\n",
    "network_parameters[\"mtl_dense_sparsity_sleep\"] = torch.tensor([0.1])\n",
    "\n",
    "network_parameters[\"mtl_sparse_num_subregions\"] = 1\n",
    "network_parameters[\"mtl_sparse_size_subregions\"] = torch.tensor([100])\n",
    "network_parameters[\"mtl_sparse_sparsity\"] = torch.tensor([0.1])\n",
    "network_parameters[\"mtl_sparse_sparsity_sleep\"] = torch.tensor([0.05])\n",
    "\n",
    "network_parameters[\"mtl_dense_sen_projection\"] = False\n",
    "network_parameters[\"mtl_dense_sen_sparsity\"] = 0.5\n",
    "\n",
    "network_parameters[\"ctx_mtl_quick_lmbda\"] = 1e-2\n",
    "network_parameters[\"max_pre_ctx_mtl_quick\"] = np.inf\n",
    "network_parameters[\"max_post_ctx_mtl_quick\"] = 1\n",
    "\n",
    "network_parameters[\"ctx_mtl_sparsity\"] = 0.5\n",
    "network_parameters[\"ctx_mtl_mean\"] = 0.03\n",
    "network_parameters[\"ctx_mtl_std\"] = 0.001\n",
    "network_parameters[\"ctx_mtl_lmbda\"] = 5e-4\n",
    "network_parameters[\"ctx_mtl_size\"] = 2\n",
    "network_parameters[\"max_pre_ctx_mtl\"] = np.inf\n",
    "network_parameters[\"max_post_ctx_mtl\"] = 1\n",
    "\n",
    "network_parameters[\"ctx_mtl_sparse_mean\"] = 0.07\n",
    "network_parameters[\"ctx_mtl_sparse_std\"] = 0.001\n",
    "network_parameters[\"ctx_mtl_sparse_lmbda\"] = 5e-4\n",
    "network_parameters[\"max_pre_ctx_mtl_sparse\"] = np.inf\n",
    "network_parameters[\"max_post_ctx_mtl_sparse\"] = 1\n",
    "\n",
    "network_parameters[\"ctx_mtl_dense_sparsity\"] = 0.5\n",
    "network_parameters[\"ctx_mtl_dense_g\"] = 0.01\n",
    "\n",
    "network_parameters[\"mtl_mtl_lmbda\"] = 5e-3\n",
    "network_parameters[\"max_pre_mtl_mtl\"] = np.inf\n",
    "network_parameters[\"max_post_mtl_mtl\"] = np.inf\n",
    "\n",
    "network_parameters[\"mtl_dense_mtl_dense_lmbda\"] = 5e-3\n",
    "network_parameters[\"max_pre_mtl_dense_mtl_dense\"] = np.inf\n",
    "network_parameters[\"max_post_mtl_dense_mtl_dense\"] = np.inf\n",
    "\n",
    "network_parameters[\"mtl_sparse_mtl_sparse_lmbda\"] = 5e-3\n",
    "network_parameters[\"max_pre_mtl_sparse_mtl_sparse\"] = np.inf\n",
    "network_parameters[\"max_post_mtl_sparse_mtl_sparse\"] = np.inf\n",
    "\n",
    "network_parameters[\"ctx_ctx_sparsity\"] = 0.05\n",
    "network_parameters[\"ctx_ctx_g\"] = 1e-4\n",
    "network_parameters[\"ctx_ctx_lmbda\"] = 5e-4\n",
    "network_parameters[\"max_pre_ctx_ctx\"] = 1\n",
    "network_parameters[\"max_post_ctx_ctx\"] = np.inf\n",
    "\n",
    "network_parameters[\"mtl_sparse_ctx_mean\"] = 0.03\n",
    "network_parameters[\"mtl_sparse_ctx_std\"] = 0.001\n",
    "network_parameters[\"mtl_sparse_ctx_lmbda\"] = 5e-3\n",
    "network_parameters[\"max_pre_mtl_sparse_ctx\"] = np.inf\n",
    "network_parameters[\"max_post_mtl_sparse_ctx\"] = 1\n",
    "\n",
    "\n",
    "recording_parameters = {}\n",
    "recording_parameters[\"regions\"] = [\"sen\", \"mtl_hat\", \"mtl_dense\", \"mtl_sparse\", \"mtl_sparse_hat\", \"mtl\", \"ctx\", \"ctx_hat\"]\n",
    "recording_parameters[\"rate_activity\"] = 1\n",
    "#recording_parameters[\"connections\"] = [\"mtl_mtl\", \"ctx_mtl\", \"ctx_ctx\", \"ctx_mtl_quick\", \"mtl_sparse_ctx\"]\n",
    "recording_parameters[\"connections\"] = [\"ctx_mtl\"]\n",
    "recording_parameters[\"rate_connectivity\"] = 1000"
   ]
  },
  {
   "cell_type": "code",
   "execution_count": 10,
   "metadata": {},
   "outputs": [
    {
     "data": {
      "text/plain": [
       "'\\nlatent_specs[\"num\"] = 5\\nlatent_specs[\"total_sizes\"] = [20, 20, 20, 20, 20]\\nlatent_specs[\"act_sizes\"] = [10, 10, 10, 10, 10]\\nlatent_specs[\"dims\"] = [2, 2, 2, 2, 2]\\n'"
      ]
     },
     "execution_count": 10,
     "metadata": {},
     "output_type": "execute_result"
    }
   ],
   "source": [
    "input_params = {}\n",
    "input_params[\"num_days\"] = 1500\n",
    "input_params[\"day_length\"] = 40\n",
    "input_params[\"mean_duration\"] = 5\n",
    "input_params[\"fixed_duration\"] = True\n",
    "input_params[\"num_swaps\"] = 8\n",
    "\n",
    "latent_specs = {}\n",
    "latent_specs[\"num\"] = 2\n",
    "latent_specs[\"total_sizes\"] = [50, 50]\n",
    "latent_specs[\"act_sizes\"] = [10, 10]\n",
    "latent_specs[\"dims\"] = [5, 5]\n",
    "\n",
    "'''\n",
    "latent_specs[\"num\"] = 5\n",
    "latent_specs[\"total_sizes\"] = [20, 20, 20, 20, 20]\n",
    "latent_specs[\"act_sizes\"] = [10, 10, 10, 10, 10]\n",
    "latent_specs[\"dims\"] = [2, 2, 2, 2, 2]\n",
    "'''"
   ]
  },
  {
   "cell_type": "code",
   "execution_count": 11,
   "metadata": {},
   "outputs": [],
   "source": [
    "def test_network(net, input_params, print_rate=1):\n",
    "  input, input_episodes, input_latents = make_input(**input_params)\n",
    "  with torch.no_grad():\n",
    "    for day in range(input_params[\"num_days\"]):\n",
    "      if day%print_rate == 0:\n",
    "        print(day)\n",
    "      net(input[day], debug=False)\n",
    "      net.sleep()\n",
    "  return input, input_episodes, input_latents, net"
   ]
  },
  {
   "cell_type": "code",
   "execution_count": 12,
   "metadata": {},
   "outputs": [
    {
     "name": "stdout",
     "output_type": "stream",
     "text": [
      "0\n",
      "50\n",
      "100\n",
      "150\n",
      "200\n",
      "250\n",
      "300\n",
      "350\n",
      "400\n",
      "450\n",
      "500\n",
      "550\n",
      "600\n",
      "650\n",
      "700\n",
      "750\n",
      "800\n",
      "850\n",
      "900\n",
      "950\n",
      "1000\n",
      "1050\n",
      "1100\n",
      "1150\n",
      "1200\n",
      "1250\n",
      "1300\n",
      "1350\n",
      "1400\n",
      "1450\n"
     ]
    }
   ],
   "source": [
    "latent_specs[\"prob_list\"] = [0.5/5 if i==j else 0.5/20 for i in range(5) for j in range(5)]\n",
    "input_params[\"latent_space\"] = LatentSpace(**latent_specs)\n",
    "network = SSCNetwork(network_parameters, recording_parameters)\n",
    "input, input_episodes, input_latents, network = test_network(network, input_params, print_rate=50)\n",
    "#torch.save(network, \"network.pt\")"
   ]
  },
  {
   "cell_type": "code",
   "execution_count": 115,
   "metadata": {},
   "outputs": [],
   "source": [
    "#torch.save(network, \"network_1500.pt\")\n",
    "netwok = torch.load(\"network_1500.pt\", weights_only=False)"
   ]
  },
  {
   "cell_type": "code",
   "execution_count": 13,
   "metadata": {},
   "outputs": [],
   "source": [
    "network.max_semantic_charge = 1"
   ]
  },
  {
   "cell_type": "code",
   "execution_count": 20,
   "metadata": {},
   "outputs": [],
   "source": [
    "input_params = {}\n",
    "input_params[\"num_days\"] = 500\n",
    "input_params[\"day_length\"] = 40\n",
    "input_params[\"mean_duration\"] = 5\n",
    "input_params[\"fixed_duration\"] = True\n",
    "input_params[\"num_swaps\"] = 8\n",
    "\n",
    "latent_specs = {}\n",
    "latent_specs[\"num\"] = 2\n",
    "latent_specs[\"total_sizes\"] = [50, 50]\n",
    "latent_specs[\"act_sizes\"] = [10, 10]\n",
    "latent_specs[\"dims\"] = [5, 5]"
   ]
  },
  {
   "cell_type": "code",
   "execution_count": 21,
   "metadata": {},
   "outputs": [
    {
     "name": "stdout",
     "output_type": "stream",
     "text": [
      "0\n",
      "50\n",
      "100\n",
      "150\n",
      "200\n",
      "250\n",
      "300\n",
      "350\n",
      "400\n",
      "450\n"
     ]
    }
   ],
   "source": [
    "latent_specs[\"prob_list\"] = [1/25 for i in range(5) for j in range(5)]\n",
    "input_params[\"latent_space\"] = LatentSpace(**latent_specs)\n",
    "input, input_episodes, input_latents, network = test_network(network, input_params, print_rate=50)"
   ]
  },
  {
   "cell_type": "code",
   "execution_count": 22,
   "metadata": {},
   "outputs": [],
   "source": [
    "X_ctx = torch.stack(network.activity_recordings[\"ctx\"], dim=0)[network.awake_indices][-100*input_params[\"day_length\"]:]\n",
    "X_mtl_sparse = torch.stack(network.activity_recordings[\"mtl_sparse\"], dim=0)[network.awake_indices][-100*input_params[\"day_length\"]:]\n",
    "X_mtl_dense = torch.stack(network.activity_recordings[\"mtl_dense\"], dim=0)[network.awake_indices][-100*input_params[\"day_length\"]:]\n",
    "\n",
    "X_latent_A = F.one_hot(input_latents[-100:, :, 0].long(), num_classes=latent_specs[\"dims\"][0])\n",
    "X_latent_B = F.one_hot(input_latents[-100:, :, 1].long(), num_classes=latent_specs[\"dims\"][1])\n",
    "X_latent_AB = torch.cat((X_latent_A, X_latent_B), axis=2)\n",
    "\n",
    "\n",
    "selectivity_ctx, ordered_indices_ctx = get_ordered_indices(X_ctx, X_latent_AB)\n",
    "selectivity_mtl_sparse, ordered_indices_mtl_sparse = get_ordered_indices(X_mtl_sparse, X_latent_AB)\n",
    "selectivity_mtl_dense, ordered_indices_mtl_dense = get_ordered_indices(X_mtl_dense, X_latent_AB)"
   ]
  },
  {
   "cell_type": "code",
   "execution_count": 28,
   "metadata": {},
   "outputs": [
    {
     "data": {
      "image/png": "[encoded data removed]",
      "text/plain": [
       "<Figure size 500x300 with 2 Axes>"
      ]
     },
     "metadata": {},
     "output_type": "display_data"
    }
   ],
   "source": [
    "mtl = torch.stack(network.activity_recordings[\"mtl\"], axis=0)[network.sleep_indices_A][-5]\n",
    "fig, ax = plt.subplots(1, 2, figsize=(5, 3))\n",
    "ax[0].imshow(mtl[:100].reshape((-1, 10)), cmap=blue_yellow)\n",
    "ax[0].set_xticks([])\n",
    "ax[0].set_yticks([])\n",
    "ax[1].set_xticks([])\n",
    "ax[1].set_yticks([])\n",
    "ax[1].imshow(mtl[100:][ordered_indices_mtl_sparse[:100]][:50].reshape((-1, 5)), cmap=blue_yellow)\n",
    "\n",
    "\n",
    "# Example parameters\n",
    "N = 10  # Total number of y-axis ticks (from 0 to N)\n",
    "NA = 5   # Number of A groups\n",
    "NB = 5   # Number of B groups\n",
    "M = N // (NA + NB)  # Size of each group (equal-sized labels)\n",
    "\n",
    "# Generate labels\n",
    "labels_A = [f\"A{i+1}\" for i in range(NA)]\n",
    "labels_B = [f\"B{i+1}\" for i in range(NB)]\n",
    "labels = labels_A + labels_B\n",
    "\n",
    "# Positions for labels (centered in each segment)\n",
    "positions = [M * i for i in range(NA + NB)]\n",
    "ax[0].set_yticks(positions, labels, fontsize=12)\n",
    "ax[1].set_yticks(positions, labels, fontsize=12)\n",
    "\n",
    "plt.savefig('Figures_SVG/4b.svg', dpi=300, transparent=True)"
   ]
  },
  {
   "cell_type": "code",
   "execution_count": 17,
   "metadata": {},
   "outputs": [],
   "source": [
    "ctx_mtl_rec = torch.stack(network.connectivity_recordings[\"ctx_mtl\"], axis=0)[:, ordered_indices_ctx[:100]]"
   ]
  },
  {
   "cell_type": "code",
   "execution_count": null,
   "metadata": {},
   "outputs": [
    {
     "data": {
      "image/png": "[encoded data removed]",
      "text/plain": [
       "<Figure size 500x300 with 1 Axes>"
      ]
     },
     "metadata": {},
     "output_type": "display_data"
    }
   ],
   "source": [
    "\n",
    "fig = plt.figure(figsize=(5, 3))\n",
    "\n",
    "plt.imshow(ctx_mtl_rec[85], cmap=gray_purple)\n",
    "\n",
    "plt.ylabel(\"Post Neuron (CTX)\", fontsize=20)\n",
    "plt.xlabel(\"Pre Neuron (CTX)\", fontsize=20)\n",
    "\n",
    "plt.xticks(np.arange(-0.5, 100, 1), minor=True)\n",
    "plt.yticks(np.arange(-0.5, 100, 1), minor=True)\n",
    "plt.grid(which='minor', color='black', linestyle='-', linewidth=0.01)\n",
    "plt.xticks([])\n",
    "plt.yticks([])\n",
    "\n",
    "\n",
    "# Example parameters\n",
    "N = 100  # Total number of y-axis ticks (from 0 to N)\n",
    "NA = 5   # Number of A groups\n",
    "NB = 5   # Number of B groups\n",
    "M = N // (NA + NB)  # Size of each group (equal-sized labels)\n",
    "\n",
    "# Generate labels\n",
    "labels_A = [f\"A{i+1}\" for i in range(NA)]\n",
    "labels_B = [f\"B{i+1}\" for i in range(NB)]\n",
    "labels = labels_A + labels_B\n",
    "\n",
    "# Positions for labels (centered in each segment)\n",
    "positions = [M * (i + 0.5) for i in range(NA + NB)]\n",
    "\n",
    "\n",
    "plt.xticks(positions, labels,  fontsize=18, rotation=90)\n",
    "plt.yticks(positions, labels, fontsize=18)\n",
    "plt.ylabel(\"Post Neuron\\n(CTX)\", fontsize=20)\n",
    "plt.xlabel(\"Pre Neuron      Pre Neuron\\n(MTL-dense)     (MTL-sparse)\", fontsize=20)\n",
    "plt.savefig('Figures_SVG/4c1.svg', dpi=300, transparent=True)"
   ]
  },
  {
   "cell_type": "code",
   "execution_count": 24,
   "metadata": {},
   "outputs": [
    {
     "data": {
      "image/png": "[encoded data removed]",
      "text/plain": [
       "<Figure size 500x500 with 1 Axes>"
      ]
     },
     "metadata": {},
     "output_type": "display_data"
    }
   ],
   "source": [
    "\n",
    "fig = plt.figure(figsize=(5, 5))\n",
    "\n",
    "plt.imshow(ctx_mtl_rec[-1], cmap=gray_purple)\n",
    "\n",
    "plt.xticks(np.arange(-0.5, 100, 1), minor=True)\n",
    "plt.yticks(np.arange(-0.5, 100, 1), minor=True)\n",
    "#plt.grid(which='minor', color='black', linestyle='-', linewidth=0.1)\n",
    "\n",
    "\n",
    "# Example parameters\n",
    "N = 100  # Total number of y-axis ticks (from 0 to N)\n",
    "NA = 5   # Number of A groups\n",
    "NB = 5   # Number of B groups\n",
    "M = N // (NA + NB)  # Size of each group (equal-sized labels)\n",
    "\n",
    "# Generate labels\n",
    "labels_A = [f\"A{i+1}\" for i in range(NA)]\n",
    "labels_B = [f\"B{i+1}\" for i in range(NB)]\n",
    "labels = labels_A + labels_B\n",
    "\n",
    "# Positions for labels (centered in each segment)\n",
    "positions = [M * (i + 0.5) for i in range(NA + NB)]\n",
    "\n",
    "\n",
    "plt.xticks(positions, labels,  fontsize=16, rotation=90)\n",
    "plt.yticks([])\n",
    "plt.xlabel(\"Pre Neuron      Pre Neuron\\n  (MTL-sensory) (MTL-semantic)\", fontsize=20)\n",
    "plt.savefig('Figures_SVG/4c2.svg', dpi=300, transparent=True)"
   ]
  },
  {
   "cell_type": "code",
   "execution_count": null,
   "metadata": {},
   "outputs": [],
   "source": []
  }
 ],
 "metadata": {
  "kernelspec": {
   "display_name": "Python 3",
   "language": "python",
   "name": "python3"
  },
  "language_info": {
   "codemirror_mode": {
    "name": "ipython",
    "version": 3
   },
   "file_extension": ".py",
   "mimetype": "text/x-python",
   "name": "python",
   "nbconvert_exporter": "python",
   "pygments_lexer": "ipython3",
   "version": "3.9.6"
  }
 },
 "nbformat": 4,
 "nbformat_minor": 2
}
